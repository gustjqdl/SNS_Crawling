{
 "cells": [
  {
   "cell_type": "code",
   "execution_count": 9,
   "metadata": {},
   "outputs": [],
   "source": [
    "import pandas as pd \n",
    "from selenium import webdriver \n",
    "from selenium.webdriver import ActionChains \n",
    "from selenium.webdriver.chrome.options import Options\n",
    "from selenium.webdriver.common.keys import Keys \n",
    "from selenium.webdriver.common.by import By\n",
    "\n",
    "\n",
    "from selenium.webdriver.support import expected_conditions as EC\n",
    "from selenium.webdriver.support.ui import Select\n",
    "from selenium.webdriver.support.ui import WebDriverWait\n",
    "\n",
    "\n",
    "import time \n",
    "from time import sleep\n",
    "\n",
    "from datetime import timedelta\n",
    "from dateutil.relativedelta import relativedelta\n",
    "\n",
    "from datetime import datetime, timedelta\n",
    "\n",
    "from urllib.request import urlopen\n",
    "from bs4 import BeautifulSoup\n",
    "\n",
    "import requests\n",
    "import schedule\n",
    "\n",
    "from time import sleep\n",
    "from urllib.error import HTTPError\n",
    "\n",
    "import urllib.request\n",
    "from urllib.parse import quote_plus\n",
    "import json\n",
    "from tqdm.notebook import tqdm\n",
    "import random\n",
    "import numpy as np "
   ]
  },
  {
   "cell_type": "code",
   "execution_count": 137,
   "metadata": {
    "scrolled": true
   },
   "outputs": [
    {
     "name": "stderr",
     "output_type": "stream",
     "text": [
      "C:\\Users\\2021009\\.conda\\envs\\tf15_py37\\lib\\site-packages\\ipykernel_launcher.py:2: DeprecationWarning: use options instead of chrome_options\n",
      "  \n"
     ]
    },
    {
     "name": "stdout",
     "output_type": "stream",
     "text": [
      "검색할 단어를 입력하시오:   \n",
      "월드비전\n",
      "--------\n",
      "111번줄 3번째 게시글에서 오류가 나왔습니다.\n",
      "124번줄 1번째 게시글에서 오류가 나왔습니다.\n",
      "134번줄 5번째 게시글에서 오류가 나왔습니다.\n",
      "186번줄 5번째 게시글에서 오류가 나왔습니다.\n",
      "210번줄 1번째 게시글에서 오류가 나왔습니다.\n"
     ]
    }
   ],
   "source": [
    "chrome_options = Options()\n",
    "driver = webdriver.Chrome(executable_path='../chromedriver',chrome_options=chrome_options)\n",
    "\n",
    "main_url ='https://section.blog.naver.com/Search/Post.naver?'\n",
    "page_no = 'pageNo='\n",
    "\n",
    "#검색 필터는 [최신순] \n",
    "after_url = '&rangeType=ALL&orderBy=recentdate&keyword='\n",
    "keyword = input(\"검색할 단어를 입력하시오:   \\n\" )\n",
    "keyword = quote_plus(keyword)\n",
    "\n",
    "# time 랜덤화로 봇 인식 방지 \n",
    "num = np.random.randint(5) + 1 \n",
    "\n",
    "title = [] \n",
    "contents = [] \n",
    "date = [] \n",
    "error_idx = []\n",
    "\n",
    "\n",
    "print('--------')\n",
    "# i = 210 \n",
    "for i in range(페이지 수):   \n",
    "    # 다음 페이지10로 이동\n",
    "    URL = main_url+page_no+str(i+1)+after_url+keyword\n",
    "    driver.get(URL)\n",
    "    driver.implicitly_wait(3)\n",
    "    num = np.random.randint(5)\n",
    "    sleep(num)\n",
    "    \n",
    "    try:            \n",
    "        # 한 페이지 내에서 수집\n",
    "        for j in range(7) :   \n",
    "            blog_title = driver.find_element_by_xpath('//*[@id=\"content\"]/section/div[2]/div['+str(j+1)+']/div/div[1]/div[1]/a[1]/strong/span')\n",
    "            title.append(blog_title.text)\n",
    "\n",
    "            blog_content = driver.find_element_by_xpath('//*[@id=\"content\"]/section/div[2]/div['+str(j+1)+']/div/div[1]/div[1]/a[2]')\n",
    "            contents.append(blog_content.text)\n",
    "\n",
    "            blog_date = driver.find_element_by_xpath('//*[@id=\"content\"]/section/div[2]/div['+str(j+1)+']/div/div[1]/div[2]/span[2]')\n",
    "            date.append(blog_date.text)\n",
    "            sleep(num)\n",
    "\n",
    "    except : \n",
    "        error_idx.append(i+1)\n",
    "        print('{}번줄 {}번째 게시글에서 오류가 나왔습니다.'.format(i+1,j+1))\n",
    "        \n",
    "        # Null 값을 일괄적으로 쌓은 뒤  개수에 맞게 제거한다. \n",
    "       \n",
    "    title.append('Null')    \n",
    "        contents.append('Null')\n",
    "        date.append('Null')       \n",
    "        \n",
    "        if len(title) > len(contents) : \n",
    "            title  = title[:-1]\n",
    "            \n",
    "        elif len(contents) > len(date) : \n",
    "            title = title[:-1]\n",
    "            contents = contents[:-1]\n",
    "        else: \n",
    "            pass \n",
    "            \n",
    "    \n",
    "            \n",
    "            \n",
    "driver.close()"
   ]
  },
  {
   "cell_type": "code",
   "execution_count": 141,
   "metadata": {},
   "outputs": [],
   "source": [
    "blog = pd.DataFrame({'블로그타이틀':title,'블로그컨텐츠':contents,'게시날짜':date})\n",
    "blog.to_csv('Blog_Crawling.csv', encoding='utf-8-sig')"
   ]
  }
 ],
 "metadata": {
  "kernelspec": {
   "display_name": "formecab",
   "language": "python",
   "name": "formecab"
  },
  "language_info": {
   "codemirror_mode": {
    "name": "ipython",
    "version": 3
   },
   "file_extension": ".py",
   "mimetype": "text/x-python",
   "name": "python",
   "nbconvert_exporter": "python",
   "pygments_lexer": "ipython3",
   "version": "3.7.10"
  }
 },
 "nbformat": 4,
 "nbformat_minor": 4
}
