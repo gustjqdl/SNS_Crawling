{
 "cells": [
  {
   "cell_type": "code",
   "execution_count": 1,
   "metadata": {},
   "outputs": [],
   "source": [
    "from selenium import webdriver as wd \n",
    "from selenium.webdriver.common.by import By \n",
    "from selenium.webdriver.support.ui import WebDriverWait \n",
    "from selenium.webdriver.support import expected_conditions as EC \n",
    "import time \n",
    "import re \n",
    "import json \n",
    "import pandas as pd\n",
    "\n"
   ]
  },
  {
   "cell_type": "code",
   "execution_count": 2,
   "metadata": {},
   "outputs": [],
   "source": [
    "user_id=\"****\" \n",
    "user_passwd=\"****\" \n",
    "#driver = webdriver.Chrome(executable_path='C:/Users/2021009/Desktop/크롤링_작업중/chromedriver')\n",
    "driver_path=\"C:/Users/2021009/Desktop/.../chromedriver\"\n",
    "keyword=\"***\" \n",
    "url = \"https://www.instagram.com/explore/tags/{}/\".format(keyword) \n",
    "facebook_login_page_css=\".sqdOP.yWX7d.y3zKF \" \n",
    "facebook_id_form_id=\"email\" \n",
    "facebook_pw_form_id=\"pass\" \n",
    "facebook_login_btn_css=\"loginbutton\"\n",
    "\n"
   ]
  },
  {
   "cell_type": "markdown",
   "metadata": {},
   "source": [
    "### 토르 브라우저 사용하여 IP 우회"
   ]
  },
  {
   "cell_type": "code",
   "execution_count": 3,
   "metadata": {},
   "outputs": [],
   "source": [
    "from selenium import webdriver\n",
    "from selenium.webdriver.chrome.options import Options\n",
    "\n",
    "for i in range(1):\n",
    "    chrome_options = Options()\n",
    "    chrome_options.add_argument(\"--proxy-server=socks5://127.0.0.1:9150\")\n",
    "    driver = webdriver.Chrome(executable_path='C:/Users/2021009/Desktop/.../chromedriver', options=chrome_options)\n"
   ]
  },
  {
   "cell_type": "code",
   "execution_count": 4,
   "metadata": {},
   "outputs": [
    {
     "name": "stdout",
     "output_type": "stream",
     "text": [
      "login start\n"
     ]
    }
   ],
   "source": [
    "driver = wd.Chrome(driver_path)\n",
    "driver.get(url)\n",
    "time.sleep(5)\n",
    "\n",
    "\n",
    "print(\"login start\") \n",
    "facebook_login_btn = driver.find_element_by_css_selector(facebook_login_page_css) \n",
    "\n",
    "facebook_login_btn.click() \n",
    "\n",
    "\n"
   ]
  },
  {
   "cell_type": "code",
   "execution_count": 5,
   "metadata": {
    "scrolled": true
   },
   "outputs": [
    {
     "data": {
      "text/plain": [
       "'id_input_form = driver.find_element_by_id(facebook_id_form_id) \\npw_input_form = driver.find_element_by_id(facebook_pw_form_id) \\nid_input_form.send_keys(user_id) \\npw_input_form.send_keys(user_passwd) \\ntime.sleep(10) \\nlogin_btn = driver.find_element_by_id(facebook_login_btn_css) \\nlogin_btn.click()\\ntime.sleep(10)'"
      ]
     },
     "execution_count": 5,
     "metadata": {},
     "output_type": "execute_result"
    }
   ],
   "source": [
    "# 바뀐 UI \n",
    "time.sleep(5)\n",
    "driver.find_element_by_xpath('//*[@id=\"react-root\"]/section/main/div/div/div[1]/div/form/div[1]/button').click()\n",
    "\n",
    "id_input_form = driver.find_element_by_id(facebook_id_form_id) \n",
    "pw_input_form = driver.find_element_by_id(facebook_pw_form_id) \n",
    "id_input_form.send_keys(user_id) \n",
    "pw_input_form.send_keys(user_passwd) \n",
    "time.sleep(10) \n",
    "login_btn = driver.find_element_by_id(facebook_login_btn_css) \n",
    "login_btn.click()\n",
    "\n",
    "\n",
    "\n",
    "time.sleep(10)\n",
    "\n",
    "# 바뀌기 전 UI\n",
    "'''id_input_form = driver.find_element_by_id(facebook_id_form_id) \n",
    "pw_input_form = driver.find_element_by_id(facebook_pw_form_id) \n",
    "id_input_form.send_keys(user_id) \n",
    "pw_input_form.send_keys(user_passwd) \n",
    "time.sleep(10) \n",
    "login_btn = driver.find_element_by_id(facebook_login_btn_css) \n",
    "login_btn.click()\n",
    "time.sleep(10)'''\n"
   ]
  },
  {
   "cell_type": "code",
   "execution_count": 6,
   "metadata": {},
   "outputs": [],
   "source": [
    "time.sleep(10) \n",
    "driver.get(url) \n",
    "time.sleep(10)\n",
    "\n"
   ]
  },
  {
   "cell_type": "code",
   "execution_count": 7,
   "metadata": {},
   "outputs": [],
   "source": [
    "# 첫번째 게시물 \n",
    "first_img_css=\"div.v1Nh3.kIKUG._bz0w\" \n",
    "driver.find_element_by_css_selector(first_img_css).click()\n",
    "\n"
   ]
  },
  {
   "cell_type": "code",
   "execution_count": null,
   "metadata": {},
   "outputs": [],
   "source": []
  },
  {
   "cell_type": "code",
   "execution_count": null,
   "metadata": {},
   "outputs": [],
   "source": []
  },
  {
   "cell_type": "code",
   "execution_count": 8,
   "metadata": {},
   "outputs": [],
   "source": [
    "# data lists \n",
    "date_texts = [] \n",
    "date_times = [] \n",
    "date_titles = [] \n",
    "main_texts = [] \n",
    "instagram_tags = [] \n",
    "comments = [] \n",
    "hearts = [] \n",
    "upload_ids=[]\n",
    "check_arrow = True \n",
    "count_extract = 0 \n",
    "upload_ids = []\n",
    "#뽑고자 하는 수 \n",
    "wish_num = 10000\n",
    "\n",
    "instagram_tags = [] \n",
    "instagram_tag_dates = []\n",
    "\n"
   ]
  },
  {
   "cell_type": "code",
   "execution_count": null,
   "metadata": {},
   "outputs": [],
   "source": [
    "\n",
    "upload_id_object_css=\"div.e1e1d > span.Jv7Aj.MqpiF > a.sqdOP.yWX7d._8A5w5.ZIAjV \"\n",
    "\n",
    "date_object_css=\"div.k_Q0X.NnvRN > a.c-Yi7 > time._1o9PC.Nzb55\" \n",
    "main_text_object_css=\"div.C7I1f.X7jCj > div.C4VMK > span\" \n",
    "tag_css=\".C7I1f.X7jCj\" \n",
    "comment_more_btn=\"button.dCJp8.afkep\" \n",
    "comment_ids_objects_css=\"ul.Mr508 > div.ZyFrc > li.gElp9.rUo9f > div.P9YgZ > div.C7I1f > div.C4VMK > h3\" \n",
    "comment_texts_objects_css=\"ul.Mr508 > div.ZyFrc > li.gElp9.rUo9f > div.P9YgZ > div.C7I1f > div.C4VMK > span\" \n",
    "print_flag=False \n",
    "next_arrow_btn_css1=\"._65Bje.coreSpriteRightPaginationArrow\" \n",
    "next_arrow_btn_css2=\"._65Bje.coreSpriteRightPaginationArrow\" \n",
    "\n",
    "hearts_xpath = \"/html/body/div[5]/div[2]/div/article/div[3]/section[2]/div/div/a/span\"\n",
    "\n",
    "while True:\n",
    "    if count_extract > wish_num: \n",
    "        break \n",
    "    time.sleep(5.0) \n",
    "\n",
    "        \n",
    "    # 날짜 \n",
    "    \n",
    "    try: \n",
    "        date_object = driver.find_element_by_css_selector(date_object_css) \n",
    "        date_text = date_object.text \n",
    "        date_time = date_object.get_attribute(\"datetime\") \n",
    "        date_title = date_object.get_attribute(\"title\") \n",
    "        \n",
    "    except: \n",
    "        date_text = None \n",
    "        date_time = None \n",
    "        date_title = None \n",
    "    # 올린사람 ID\n",
    "    try: \n",
    "        upload_id_object = driver.find_element_by_css_selector(upload_id_object_css) \n",
    "        upload_id = upload_id_object.text\n",
    "        \n",
    "    except: upload_id = None\n",
    "\n",
    "    \n",
    "        \n",
    "    # 본문 \n",
    "    try: \n",
    "        main_text_object = driver.find_element_by_css_selector(main_text_object_css) \n",
    "        main_text = main_text_object.text \n",
    "        \n",
    "    except: \n",
    "        main_text = None\n",
    "        \n",
    "    ## 본문 속 태그 \n",
    "    \n",
    "    try: \n",
    "        data = driver.find_element_by_css_selector(tag_css) # C7I1f X7jCj \n",
    "        tag_raw = data.text \n",
    "        tags = re.findall('#[A-Za-z0-9가-힣]+', tag_raw) \n",
    "        tag = ''.join(tags).replace(\"#\",\" \") # \"#\" 제거 \n",
    "        \n",
    "        tag_data = tag.split() \n",
    "        \n",
    "        for tag_one in tag_data: \n",
    "            instagram_tags.append(tag_one) \n",
    "            \n",
    "    except: \n",
    "        continue\n",
    "        \n",
    "        \n",
    "    # 댓글\n",
    "    ## 더보기 버튼 클릭 \n",
    "    \n",
    "    try:\n",
    "        while True: \n",
    "            try:\n",
    "                more_btn = driver.find_element_by_css_selector(comment_more_btn) \n",
    "                more_btn.click() \n",
    "            except: \n",
    "                break \n",
    "                \n",
    "    except: \n",
    "        print(\"-fail to click more btn-\") \n",
    "        continue\n",
    "        \n",
    "  \n",
    "    #좋아요 수 \n",
    "    #크롤링 실패 X_path 다시 잡기 ! \n",
    "    try: \n",
    "        heart_num = driver.find_element_by_xpath(hearts_xpath)\n",
    "        heart_number = heart_num.text\n",
    "        \n",
    "    except : \n",
    "        heart_number = None\n",
    "    \n",
    "\n",
    "\n",
    "    ## 댓글 데이터 \n",
    "    \n",
    "    \n",
    "    try: \n",
    "        comment_data = {} \n",
    "        comment_ids_objects = driver.find_elements_by_css_selector(comment_ids_objects_css) \n",
    "        comment_texts_objects = driver.find_elements_by_css_selector(comment_texts_objects_css) \n",
    "        \n",
    "        try: \n",
    "            for i in range(len(comment_ids_objects)): \n",
    "                # 댓글 ID는 마스킹 처리 \n",
    "                comment_data[str((i+1))] = {\"comment_id\":'****', \"comment_text\":comment_texts_objects[i].text} \n",
    "                \n",
    "        except: \n",
    "            print(\"fail\") \n",
    "                \n",
    "                \n",
    "    except: \n",
    "        comment_id = None \n",
    "        comment_text = None \n",
    "        comment_data = {} \n",
    "        \n",
    "\n",
    "        \n",
    "    # 댓글 내 해시태그 추출 \n",
    "    try: \n",
    "        if comment_data != {}: \n",
    "            keys = list(comment_data.keys()) \n",
    "            \n",
    "            for key in keys: \n",
    "                if comment_data[key]['comment_id'] == upload_id: \n",
    "                    tags = re.findall('#[A-Za-z0-9가-힣]+', comment_data[key]['comment_text']) \n",
    "                    \n",
    "                    tag = ''.join(tags).replace(\"#\",\" \") # \"#\" 제거 \n",
    "                    \n",
    "                    tag_data = tag.split() \n",
    "                    \n",
    "                    for tag_one in tag_data: \n",
    "                        instagram_tags.append(tag_one) \n",
    "                        \n",
    "    except: \n",
    "        continue \n",
    "        \n",
    "        \n",
    "\n",
    "\n",
    "    date_texts.append(date_text) \n",
    "    date_times.append(date_time) \n",
    "    date_titles.append(date_title) \n",
    "    main_texts.append(main_text) \n",
    "    \n",
    "    hearts.append(heart_number)\n",
    "    \n",
    "    comment_json = json.dumps(comment_data,ensure_ascii = False) \n",
    "    \n",
    "    comments.append(comment_json) \n",
    "    \n",
    " \n",
    "    \n",
    "    if print_flag: \n",
    "\n",
    "        print(\"date : {} {} {}\".format(date_text, date_time, date_title)) \n",
    "        print(\"main : \", main_text) \n",
    "        print(\"comment : \", comment_data) \n",
    "        print('hearts:',hearts)\n",
    "        print(\"insta tags : \", instagram_tags) \n",
    "        \n",
    "    try: \n",
    "        WebDriverWait(driver, 100).until(EC.presence_of_element_located((By.CSS_SELECTOR, next_arrow_btn_css1))) \n",
    "        driver.find_element_by_css_selector(next_arrow_btn_css2).click() \n",
    "        \n",
    "    except: \n",
    "        check_arrow = False \n",
    "        \n",
    "    \n",
    "    count_extract += 1\n",
    "    \n",
    "    if count_extract ==4000 or count_extract == 8000 : \n",
    "        \n",
    "        # time.sleep 랜덤화로 봇 인식 방지 \n",
    "        import numpy as np\n",
    "        MAX_SLEEP_TIME = 30\n",
    "        rand_value = np.random.randint(1, MAX_SLEEP_TIME)\n",
    "        time.sleep(rand_value)\n",
    "        \n",
    "    else: \n",
    "        pass"
   ]
  },
  {
   "cell_type": "code",
   "execution_count": null,
   "metadata": {},
   "outputs": [],
   "source": []
  },
  {
   "cell_type": "code",
   "execution_count": null,
   "metadata": {},
   "outputs": [],
   "source": []
  },
  {
   "cell_type": "markdown",
   "metadata": {},
   "source": [
    "### 저장 "
   ]
  },
  {
   "cell_type": "code",
   "execution_count": 15,
   "metadata": {},
   "outputs": [],
   "source": [
    "# 파일 이름 \n",
    "save_file_name=\"instagram_extract\" \n",
    "save_file_name_tag=\"instagram_tag\" \n",
    "\n",
    "\n",
    "try: \n",
    "    insta_info_df = pd.DataFrame({\"date_text\":date_texts, \"date_time\":date_times, \"date_title\":date_titles,'hearts':hearts ,\"main_text\":main_texts, \"comment\":comments}) \n",
    "    insta_info_df.to_csv(\"{}.csv\".format(save_file_name), index=False, encoding = 'utf-8-sig') \n",
    "    \n",
    "except: \n",
    "    print(\"fail to save data\") \n",
    "    \n",
    "try: \n",
    "    insta_tag_df = pd.DataFrame({\"tag\":instagram_tags}) \n",
    "    insta_tag_df.to_csv(\"{}.csv\".format(save_file_name_tag), index=False, encoding = 'utf-8-sig') \n",
    "except:\n",
    "    print(\"fail to save tag data\") \n",
    "    \n",
    "#driver.close() \n",
    "#driver.quit()\n"
   ]
  },
  {
   "cell_type": "markdown",
   "metadata": {},
   "source": [
    "### 빅쿼리 API"
   ]
  },
  {
   "cell_type": "code",
   "execution_count": 53,
   "metadata": {},
   "outputs": [
    {
     "name": "stderr",
     "output_type": "stream",
     "text": [
      "1it [00:07,  7.22s/it]"
     ]
    },
    {
     "name": "stdout",
     "output_type": "stream",
     "text": [
      "migration complete\n"
     ]
    },
    {
     "name": "stderr",
     "output_type": "stream",
     "text": [
      "\n"
     ]
    }
   ],
   "source": [
    "from google.oauth2 import service_account\n",
    "import pandas_gbq\n",
    "\n",
    "cd = service_account.Credentials.from_service_account_file(\n",
    "    'C:/Users/2021009/Desktop/putty/****.json')\n",
    "project_id = '****'\n",
    "destination_table = '****'\n",
    "\n",
    "insta_info_df.to_gbq(destination_table,project_id,if_exists='replace',credentials=cd) \n",
    "print('migration complete')"
   ]
  },
  {
   "cell_type": "code",
   "execution_count": null,
   "metadata": {},
   "outputs": [],
   "source": []
  },
  {
   "cell_type": "code",
   "execution_count": null,
   "metadata": {},
   "outputs": [],
   "source": []
  }
 ],
 "metadata": {
  "kernelspec": {
   "display_name": "formecab",
   "language": "python",
   "name": "formecab"
  },
  "language_info": {
   "codemirror_mode": {
    "name": "ipython",
    "version": 3
   },
   "file_extension": ".py",
   "mimetype": "text/x-python",
   "name": "python",
   "nbconvert_exporter": "python",
   "pygments_lexer": "ipython3",
   "version": "3.7.10"
  }
 },
 "nbformat": 4,
 "nbformat_minor": 4
}
